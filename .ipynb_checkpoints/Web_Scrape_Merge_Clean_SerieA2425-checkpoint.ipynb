{
 "cells": [
  {
   "cell_type": "code",
   "execution_count": 8,
   "id": "511a0eea-a986-47cc-a8c7-b40381a09147",
   "metadata": {},
   "outputs": [],
   "source": [
    "import pandas as pd\n",
    "import numpy as np\n",
    "import requests\n",
    "from bs4 import BeautifulSoup\n",
    "import matplotlib.pyplot as plt\n",
    "from matplotlib.patches import Patch"
   ]
  },
  {
   "cell_type": "code",
   "execution_count": 25,
   "id": "32ec6d78-2fda-43aa-a9d4-3461cff4e131",
   "metadata": {},
   "outputs": [
    {
     "ename": "Exception",
     "evalue": "Could not find stats_keepers table in comments.",
     "output_type": "error",
     "traceback": [
      "\u001b[31m---------------------------------------------------------------------------\u001b[39m",
      "\u001b[31mException\u001b[39m                                 Traceback (most recent call last)",
      "\u001b[36mCell\u001b[39m\u001b[36m \u001b[39m\u001b[32mIn[25]\u001b[39m\u001b[32m, line 16\u001b[39m\n\u001b[32m     14\u001b[39m     df_std = pd.read_html(\u001b[38;5;28mstr\u001b[39m(table))[\u001b[32m0\u001b[39m]\n\u001b[32m     15\u001b[39m \u001b[38;5;28;01melse\u001b[39;00m:\n\u001b[32m---> \u001b[39m\u001b[32m16\u001b[39m     \u001b[38;5;28;01mraise\u001b[39;00m \u001b[38;5;167;01mException\u001b[39;00m(\u001b[33m\"\u001b[39m\u001b[33mCould not find stats_keepers table in comments.\u001b[39m\u001b[33m\"\u001b[39m)\n\u001b[32m     17\u001b[39m df_std.columns = [\n\u001b[32m     18\u001b[39m     \u001b[33m'\u001b[39m\u001b[33m_\u001b[39m\u001b[33m'\u001b[39m.join(col).strip().replace(\u001b[33m'\u001b[39m\u001b[33mUnnamed: \u001b[39m\u001b[33m'\u001b[39m, \u001b[33m'\u001b[39m\u001b[33m'\u001b[39m).replace(\u001b[33m'\u001b[39m\u001b[33m_level_0\u001b[39m\u001b[33m'\u001b[39m, \u001b[33m'\u001b[39m\u001b[33m'\u001b[39m)\n\u001b[32m     19\u001b[39m     \u001b[38;5;28;01mif\u001b[39;00m \u001b[38;5;28misinstance\u001b[39m(col, \u001b[38;5;28mtuple\u001b[39m) \u001b[38;5;28;01melse\u001b[39;00m col\n\u001b[32m     20\u001b[39m     \u001b[38;5;28;01mfor\u001b[39;00m col \u001b[38;5;129;01min\u001b[39;00m df_std.columns.values\n\u001b[32m     21\u001b[39m ]\n\u001b[32m     22\u001b[39m rename_dict = {\n\u001b[32m     23\u001b[39m     \u001b[33m'\u001b[39m\u001b[33m0_Rk\u001b[39m\u001b[33m'\u001b[39m: \u001b[33m'\u001b[39m\u001b[33mRk\u001b[39m\u001b[33m'\u001b[39m,\n\u001b[32m     24\u001b[39m     \u001b[33m'\u001b[39m\u001b[33m1_Player\u001b[39m\u001b[33m'\u001b[39m: \u001b[33m'\u001b[39m\u001b[33mPlayer\u001b[39m\u001b[33m'\u001b[39m,\n\u001b[32m   (...)\u001b[39m\u001b[32m     29\u001b[39m     \u001b[33m'\u001b[39m\u001b[33m6_Born\u001b[39m\u001b[33m'\u001b[39m: \u001b[33m'\u001b[39m\u001b[33mBorn\u001b[39m\u001b[33m'\u001b[39m\n\u001b[32m     30\u001b[39m }\n",
      "\u001b[31mException\u001b[39m: Could not find stats_keepers table in comments."
     ]
    }
   ],
   "source": [
    "# Scrape Standard Stats\n",
    "url_standard = \"https://fbref.com/en/comps/11/keepers/Serie-A-Stats\"\n",
    "res = requests.get(url_standard)\n",
    "soup = BeautifulSoup(res.text, 'lxml')\n",
    "comments = soup.find_all(string=lambda text: isinstance(text, (str, bytes)) and 'table' in text)\n",
    "target_comment = None\n",
    "for c in comments:\n",
    "    if 'id=\"stats_keepers\"' in c:\n",
    "        target_comment = c\n",
    "        break\n",
    "if target_comment is not None:\n",
    "    table_soup = BeautifulSoup(target_comment, 'lxml')\n",
    "    table = table_soup.find('table')\n",
    "    df_std = pd.read_html(str(table))[0]\n",
    "else:\n",
    "    raise Exception(\"Could not find stats_keepers table in comments.\")\n",
    "df_std.columns = [\n",
    "    '_'.join(col).strip().replace('Unnamed: ', '').replace('_level_0', '')\n",
    "    if isinstance(col, tuple) else col\n",
    "    for col in df_std.columns.values\n",
    "]\n",
    "rename_dict = {\n",
    "    '0_Rk': 'Rk',\n",
    "    '1_Player': 'Player',\n",
    "    '2_Nation': 'Nation',\n",
    "    '3_Pos': 'Pos',\n",
    "    '4_Squad': 'Squad',\n",
    "    '5_Age': 'Age',\n",
    "    '6_Born': 'Born'\n",
    "}\n",
    "df_std = df_std.rename(columns=rename_dict)\n",
    "df_std = df_std[df_std['Player'] != 'Player'].reset_index(drop=True)\n",
    "\n",
    "\n",
    "# Save locally for reuse\n",
    "df_std.to_csv('seriea_keeper_stats.csv', index=False)\n"
   ]
  },
  {
   "cell_type": "code",
   "execution_count": null,
   "id": "ee3ba7c3-ae52-44fc-94cb-d596eb7c295a",
   "metadata": {},
   "outputs": [],
   "source": []
  },
  {
   "cell_type": "code",
   "execution_count": null,
   "id": "43237c1e-40db-4244-af55-d73edfdf4eb2",
   "metadata": {},
   "outputs": [],
   "source": []
  },
  {
   "cell_type": "code",
   "execution_count": null,
   "id": "de44bf08-fd86-4520-aa2b-abed8102dc7e",
   "metadata": {},
   "outputs": [],
   "source": []
  },
  {
   "cell_type": "code",
   "execution_count": null,
   "id": "cf17c74c-85a8-4395-a43e-752f921d9361",
   "metadata": {},
   "outputs": [],
   "source": []
  },
  {
   "cell_type": "code",
   "execution_count": null,
   "id": "dfe3048f-ee49-4801-87c5-97744931f685",
   "metadata": {},
   "outputs": [],
   "source": []
  }
 ],
 "metadata": {
  "kernelspec": {
   "display_name": "Python 3 (ipykernel)",
   "language": "python",
   "name": "python3"
  },
  "language_info": {
   "codemirror_mode": {
    "name": "ipython",
    "version": 3
   },
   "file_extension": ".py",
   "mimetype": "text/x-python",
   "name": "python",
   "nbconvert_exporter": "python",
   "pygments_lexer": "ipython3",
   "version": "3.11.13"
  }
 },
 "nbformat": 4,
 "nbformat_minor": 5
}

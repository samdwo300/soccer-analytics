{
 "cells": [
  {
   "cell_type": "code",
   "execution_count": null,
   "id": "85e5eef5-d8a7-472e-b744-b82613ad9d24",
   "metadata": {},
   "outputs": [],
   "source": [
    "player_salaries = []\n",
    "for idx in range(1, len(tables), 1):  # player tables at odd indices\n",
    "    df = pd.read_html(str(table))[0]\n",
    "    player_salaries.append(df)\n",
    "\n",
    "df_players = pd.concat(player_salaries, ignore_index=True)\n",
    "print(df_players[['Player', 'Squad']].head(10))\n"
   ]
  },
  {
   "cell_type": "code",
   "execution_count": null,
   "id": "ea00ef59-af7c-42c2-bd38-082226d81640",
   "metadata": {},
   "outputs": [],
   "source": [
    "# Example cleaning for GBP or USD\n",
    "import re\n",
    "def extract_usd_amount(wage_str):\n",
    "    match = re.search(r'\\$([\\d,]+)', str(wage_str))\n",
    "    if match:\n",
    "        return float(match.group(1).replace(',', ''))\n",
    "    return None\n",
    "\n",
    "df_players['Annual_Wages_USD'] = df_players['Annual Wages'].astype(str).apply(extract_usd_amount)\n",
    "df_players['Salary_M_USD'] = df_players['Annual_Wages_USD'] / 1_000_000\n",
    "\n",
    "# Standardize names\n",
    "df_players['Player'] = df_players['Player'].str.lower().str.strip()\n",
    "df_players['Squad'] = df_players['Squad'].str.lower().str.strip()\n",
    "df_all_conversion['Player'] = df_all_conversion['Player'].str.lower().str.strip()\n",
    "df_all_conversion['Squad'] = df_all_conversion['Squad'].str.lower().str.strip()\n",
    "\n",
    "# Merge!\n",
    "df_stats_salary = pd.merge(\n",
    "    df_all_conversion,\n",
    "    df_players[['Player', 'Squad', 'Salary_M_USD']],\n",
    "    on=['Player', 'Squad'],\n",
    "    how='left'\n",
    ")\n"
   ]
  },
  {
   "cell_type": "code",
   "execution_count": null,
   "id": "9cb4b222-ad43-4006-b138-00dc56b88972",
   "metadata": {},
   "outputs": [],
   "source": [
    "import re\n",
    "import pandas as pd\n",
    "\n",
    "# Extract USD salary (if you haven't already)\n",
    "def extract_usd_amount(wage_str):\n",
    "    match = re.search(r'\\$([\\d,]+)', str(wage_str))\n",
    "    if match:\n",
    "        return float(match.group(1).replace(',', ''))\n",
    "    return None\n",
    "\n",
    "df_players['Annual_Wages_USD'] = df_players['Annual Wages'].astype(str).apply(extract_usd_amount)\n",
    "df_players['Salary_M_USD'] = df_players['Annual_Wages_USD'] / 1_000_000\n",
    "\n",
    "# Standardize for merge\n",
    "df_players['Player'] = df_players['Player'].str.lower().str.strip()\n",
    "df_players['Squad'] = df_players['Squad'].str.lower().str.strip()\n",
    "df_all_conversion['Player'] = df_all_conversion['Player'].str.lower().str.strip()\n",
    "df_all_conversion['Squad'] = df_all_conversion['Squad'].str.lower().str.strip()\n"
   ]
  },
  {
   "cell_type": "code",
   "execution_count": null,
   "id": "9fb6e806-6e6b-40c7-ade0-9e10da8dbceb",
   "metadata": {},
   "outputs": [],
   "source": [
    "import unicodedata\n",
    "\n",
    "def remove_accents(text):\n",
    "    if pd.isnull(text):\n",
    "        return \"\"\n",
    "    return ''.join(\n",
    "        c for c in unicodedata.normalize('NFKD', str(text))\n",
    "        if not unicodedata.combining(c)\n",
    "    )\n",
    "\n",
    "df_players['Player'] = df_players['Player'].apply(remove_accents).str.lower().str.strip()\n",
    "df_players['Squad'] = df_players['Squad'].apply(remove_accents).str.lower().str.strip()\n",
    "\n",
    "# Do the same for your stats DataFrame:\n",
    "df_all_conversion['Player'] = df_all_conversion['Player'].apply(remove_accents).str.lower().str.strip()\n",
    "df_all_conversion['Squad'] = df_all_conversion['Squad'].apply(remove_accents).str.lower().str.strip()\n"
   ]
  },
  {
   "cell_type": "code",
   "execution_count": null,
   "id": "4cc24631-85f6-408c-b53a-f7eece6cabc2",
   "metadata": {},
   "outputs": [],
   "source": [
    "df_stats_salary = pd.merge(\n",
    "    df_all_conversion,\n",
    "    df_players[['Player', 'Squad', 'Salary_M_USD']],\n",
    "    on=['Player', 'Squad'],\n",
    "    how='left'\n",
    ")\n"
   ]
  },
  {
   "cell_type": "code",
   "execution_count": null,
   "id": "3ea60e06-1456-4301-b2a9-ceb4fa016bbb",
   "metadata": {},
   "outputs": [],
   "source": [
    "# Make sure these columns are numeric\n",
    "df_stats_salary['Goals'] = pd.to_numeric(df_stats_salary['Goals'], errors='coerce')\n",
    "df_stats_salary['xG'] = pd.to_numeric(df_stats_salary['xG'], errors='coerce')\n",
    "df_stats_salary['Salary_M_USD'] = pd.to_numeric(df_stats_salary['Salary_M_USD'], errors='coerce')\n",
    "\n",
    "# Filter for players with salary data and at least 1 goal or xG\n",
    "df_stats_salary = df_stats_salary[df_stats_salary['Salary_M_USD'] > 0]\n",
    "df_stats_salary = df_stats_salary[df_stats_salary['Goals'].notnull() | df_stats_salary['xG'].notnull()]\n",
    "\n",
    "# ROI and value metrics\n",
    "df_stats_salary['Goals_per_Million'] = df_stats_salary['Goals'] / df_stats_salary['Salary_M_USD']\n",
    "df_stats_salary['xG_per_Million'] = df_stats_salary['xG'] / df_stats_salary['Salary_M_USD']\n",
    "df_stats_salary['G_minus_xG'] = df_stats_salary['Goals'] - df_stats_salary['xG']\n"
   ]
  },
  {
   "cell_type": "code",
   "execution_count": null,
   "id": "9ed46c74-4d4e-4c40-9eb5-99046403ad4c",
   "metadata": {},
   "outputs": [],
   "source": [
    "print(\"Top ROI (Goals per $1M):\")\n",
    "print(\n",
    "    df_stats_salary\n",
    "    .sort_values('Goals_per_Million', ascending=False)\n",
    "    [['Player', 'Squad', 'Goals', 'xG', 'Salary_M_USD', 'Goals_per_Million', 'G_minus_xG']]\n",
    "    .head(15)\n",
    ")\n",
    "\n",
    "print(\"\\nTop Overperformers (G-xG):\")\n",
    "print(\n",
    "    df_stats_salary\n",
    "    .sort_values('G_minus_xG', ascending=False)\n",
    "    [['Player', 'Squad', 'Goals', 'xG', 'Salary_M_USD', 'G_minus_xG']]\n",
    "    .head(10)\n",
    ")\n"
   ]
  },
  {
   "cell_type": "code",
   "execution_count": null,
   "id": "dd6ab29f-36fc-4673-98c9-57cb517e5446",
   "metadata": {},
   "outputs": [],
   "source": [
    "# Lowercase and strip for matching\n",
    "import unicodedata\n",
    "\n",
    "def remove_accents(text):\n",
    "    if pd.isnull(text):\n",
    "        return \"\"\n",
    "    return ''.join(\n",
    "        c for c in unicodedata.normalize('NFKD', str(text))\n",
    "        if not unicodedata.combining(c)\n",
    "    )\n",
    "\n",
    "for col in ['Player', 'Squad']:\n",
    "    df_all_conversion[col] = df_all_conversion[col].apply(remove_accents).str.lower().str.strip()\n",
    "    df_players[col] = df_players[col].apply(remove_accents).str.lower().str.strip()\n",
    "\n",
    "df_all_conversion['xG'] = pd.to_numeric(df_all_conversion['Expected_xG'], errors='coerce')\n",
    "df_all_conversion['G_minus_xG'] = df_all_conversion['Goals'] - df_all_conversion['xG']\n",
    "df_all_conversion['xG_per_shot'] = df_all_conversion['xG'] / df_all_conversion['Shots']\n",
    "\n",
    "# Merge on player+club\n",
    "df_all_value = pd.merge(\n",
    "    df_all_conversion,\n",
    "    df_players[['Player', 'Squad', 'Salary_M_USD']],\n",
    "    on=['Player', 'Squad'],\n",
    "    how='left'\n",
    ")\n"
   ]
  },
  {
   "cell_type": "code",
   "execution_count": null,
   "id": "0cee7d17-81a1-4cc8-a095-b98238107cca",
   "metadata": {},
   "outputs": [],
   "source": [
    "# Save ALL columns of df_all_value\n",
    "filename = \"player_team_salary_stats_2024-2025_SerieA.csv\"\n",
    "df_all_value.to_csv(filename, index=False)\n",
    "print(f\"Saved all player/team/salary/stats/value data to: {filename}\")\n"
   ]
  },
  {
   "cell_type": "code",
   "execution_count": null,
   "id": "589569e9-2541-42a9-8880-1ceee21e917b",
   "metadata": {},
   "outputs": [],
   "source": []
  }
 ],
 "metadata": {
  "kernelspec": {
   "display_name": "Python 3 (ipykernel)",
   "language": "python",
   "name": "python3"
  },
  "language_info": {
   "codemirror_mode": {
    "name": "ipython",
    "version": 3
   },
   "file_extension": ".py",
   "mimetype": "text/x-python",
   "name": "python",
   "nbconvert_exporter": "python",
   "pygments_lexer": "ipython3",
   "version": "3.11.13"
  }
 },
 "nbformat": 4,
 "nbformat_minor": 5
}

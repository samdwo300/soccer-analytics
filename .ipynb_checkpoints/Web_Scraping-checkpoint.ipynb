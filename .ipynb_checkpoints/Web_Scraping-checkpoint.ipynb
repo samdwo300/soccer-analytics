{
 "cells": [
  {
   "cell_type": "code",
   "execution_count": 1,
   "id": "128baa1b",
   "metadata": {},
   "outputs": [],
   "source": [
    "import pandas as pd\n",
    "import numpy as np\n",
    "import requests\n",
    "from bs4 import BeautifulSoup\n",
    "import matplotlib.pyplot as plt\n",
    "from matplotlib.patches import Patch"
   ]
  },
  {
   "cell_type": "code",
   "execution_count": 4,
   "id": "01b97bd4",
   "metadata": {},
   "outputs": [
    {
     "name": "stdout",
     "output_type": "stream",
     "text": [
      "Scraping standard from https://fbref.com/en/comps/11/10731/standard/2024-2025-Serie-A-Stats ...\n",
      "❌ Failed to scrape standard: Message: no such element: Unable to locate element: {\"method\":\"css selector\",\"selector\":\"[id=\"div_stats_standard\"]\"}\n",
      "  (Session info: chrome=138.0.7204.169); For documentation on this error, please visit: https://www.selenium.dev/documentation/webdriver/troubleshooting/errors#nosuchelementexception\n",
      "Stacktrace:\n",
      "0   chromedriver                        0x0000000102b87570 cxxbridge1$str$ptr + 2731064\n",
      "1   chromedriver                        0x0000000102b7f468 cxxbridge1$str$ptr + 2698032\n",
      "2   chromedriver                        0x00000001026ce3f8 cxxbridge1$string$len + 90664\n",
      "3   chromedriver                        0x000000010271571c cxxbridge1$string$len + 382284\n",
      "4   chromedriver                        0x0000000102756b1c cxxbridge1$string$len + 649548\n",
      "5   chromedriver                        0x0000000102709a0c cxxbridge1$string$len + 333884\n",
      "6   chromedriver                        0x0000000102b4a5f4 cxxbridge1$str$ptr + 2481340\n",
      "7   chromedriver                        0x0000000102b4d85c cxxbridge1$str$ptr + 2494244\n",
      "8   chromedriver                        0x0000000102b2b248 cxxbridge1$str$ptr + 2353424\n",
      "9   chromedriver                        0x0000000102b4e118 cxxbridge1$str$ptr + 2496480\n",
      "10  chromedriver                        0x0000000102b1c2f8 cxxbridge1$str$ptr + 2292160\n",
      "11  chromedriver                        0x0000000102b6e00c cxxbridge1$str$ptr + 2627284\n",
      "12  chromedriver                        0x0000000102b6e198 cxxbridge1$str$ptr + 2627680\n",
      "13  chromedriver                        0x0000000102b7f0a4 cxxbridge1$str$ptr + 2697068\n",
      "14  libsystem_pthread.dylib             0x00000001aecf226c _pthread_start + 148\n",
      "15  libsystem_pthread.dylib             0x00000001aeced08c thread_start + 8\n",
      "\n",
      "Scraping shooting from https://fbref.com/en/comps/11/10731/shooting/2024-2025-Serie-A-Stats ...\n"
     ]
    },
    {
     "name": "stderr",
     "output_type": "stream",
     "text": [
      "/var/folders/x7/ss81vs2d7wj1wj700h3170dh0000gn/T/ipykernel_74667/2640609032.py:45: FutureWarning: Passing literal html to 'read_html' is deprecated and will be removed in a future version. To read from a literal string, wrap it in a 'StringIO' object.\n",
      "  df = pd.read_html(table_html)[0]\n"
     ]
    },
    {
     "name": "stdout",
     "output_type": "stream",
     "text": [
      "✅ Saved shooting.csv\n",
      "Scraping passing from https://fbref.com/en/comps/11/10731/passing/2024-2025-Serie-A-Stats ...\n"
     ]
    },
    {
     "name": "stderr",
     "output_type": "stream",
     "text": [
      "/var/folders/x7/ss81vs2d7wj1wj700h3170dh0000gn/T/ipykernel_74667/2640609032.py:45: FutureWarning: Passing literal html to 'read_html' is deprecated and will be removed in a future version. To read from a literal string, wrap it in a 'StringIO' object.\n",
      "  df = pd.read_html(table_html)[0]\n"
     ]
    },
    {
     "name": "stdout",
     "output_type": "stream",
     "text": [
      "✅ Saved passing.csv\n",
      "Scraping passing_types from https://fbref.com/en/comps/11/10731/passing_types/2024-2025-Serie-A-Stats ...\n"
     ]
    },
    {
     "name": "stderr",
     "output_type": "stream",
     "text": [
      "/var/folders/x7/ss81vs2d7wj1wj700h3170dh0000gn/T/ipykernel_74667/2640609032.py:45: FutureWarning: Passing literal html to 'read_html' is deprecated and will be removed in a future version. To read from a literal string, wrap it in a 'StringIO' object.\n",
      "  df = pd.read_html(table_html)[0]\n"
     ]
    },
    {
     "name": "stdout",
     "output_type": "stream",
     "text": [
      "✅ Saved passing_types.csv\n",
      "Scraping possession from https://fbref.com/en/comps/11/10731/possession/2024-2025-Serie-A-Stats ...\n"
     ]
    },
    {
     "name": "stderr",
     "output_type": "stream",
     "text": [
      "/var/folders/x7/ss81vs2d7wj1wj700h3170dh0000gn/T/ipykernel_74667/2640609032.py:45: FutureWarning: Passing literal html to 'read_html' is deprecated and will be removed in a future version. To read from a literal string, wrap it in a 'StringIO' object.\n",
      "  df = pd.read_html(table_html)[0]\n"
     ]
    },
    {
     "name": "stdout",
     "output_type": "stream",
     "text": [
      "✅ Saved possession.csv\n",
      "Scraping defense from https://fbref.com/en/comps/11/10731/defense/2024-2025-Serie-A-Stats ...\n"
     ]
    },
    {
     "name": "stderr",
     "output_type": "stream",
     "text": [
      "/var/folders/x7/ss81vs2d7wj1wj700h3170dh0000gn/T/ipykernel_74667/2640609032.py:45: FutureWarning: Passing literal html to 'read_html' is deprecated and will be removed in a future version. To read from a literal string, wrap it in a 'StringIO' object.\n",
      "  df = pd.read_html(table_html)[0]\n"
     ]
    },
    {
     "name": "stdout",
     "output_type": "stream",
     "text": [
      "✅ Saved defense.csv\n",
      "Scraping playing_time from https://fbref.com/en/comps/11/10731/playing_time/2024-2025-Serie-A-Stats ...\n",
      "❌ Failed to scrape playing_time: Message: no such element: Unable to locate element: {\"method\":\"css selector\",\"selector\":\"[id=\"div_stats_playing_time\"]\"}\n",
      "  (Session info: chrome=138.0.7204.169); For documentation on this error, please visit: https://www.selenium.dev/documentation/webdriver/troubleshooting/errors#nosuchelementexception\n",
      "Stacktrace:\n",
      "0   chromedriver                        0x0000000102b87570 cxxbridge1$str$ptr + 2731064\n",
      "1   chromedriver                        0x0000000102b7f468 cxxbridge1$str$ptr + 2698032\n",
      "2   chromedriver                        0x00000001026ce3f8 cxxbridge1$string$len + 90664\n",
      "3   chromedriver                        0x000000010271571c cxxbridge1$string$len + 382284\n",
      "4   chromedriver                        0x0000000102756b1c cxxbridge1$string$len + 649548\n",
      "5   chromedriver                        0x0000000102709a0c cxxbridge1$string$len + 333884\n",
      "6   chromedriver                        0x0000000102b4a5f4 cxxbridge1$str$ptr + 2481340\n",
      "7   chromedriver                        0x0000000102b4d85c cxxbridge1$str$ptr + 2494244\n",
      "8   chromedriver                        0x0000000102b2b248 cxxbridge1$str$ptr + 2353424\n",
      "9   chromedriver                        0x0000000102b4e118 cxxbridge1$str$ptr + 2496480\n",
      "10  chromedriver                        0x0000000102b1c2f8 cxxbridge1$str$ptr + 2292160\n",
      "11  chromedriver                        0x0000000102b6e00c cxxbridge1$str$ptr + 2627284\n",
      "12  chromedriver                        0x0000000102b6e198 cxxbridge1$str$ptr + 2627680\n",
      "13  chromedriver                        0x0000000102b7f0a4 cxxbridge1$str$ptr + 2697068\n",
      "14  libsystem_pthread.dylib             0x00000001aecf226c _pthread_start + 148\n",
      "15  libsystem_pthread.dylib             0x00000001aeced08c thread_start + 8\n",
      "\n",
      "Scraping misc from https://fbref.com/en/comps/11/10731/misc/2024-2025-Serie-A-Stats ...\n"
     ]
    },
    {
     "name": "stderr",
     "output_type": "stream",
     "text": [
      "/var/folders/x7/ss81vs2d7wj1wj700h3170dh0000gn/T/ipykernel_74667/2640609032.py:45: FutureWarning: Passing literal html to 'read_html' is deprecated and will be removed in a future version. To read from a literal string, wrap it in a 'StringIO' object.\n",
      "  df = pd.read_html(table_html)[0]\n"
     ]
    },
    {
     "name": "stdout",
     "output_type": "stream",
     "text": [
      "✅ Saved misc.csv\n",
      "Scraping gca from https://fbref.com/en/comps/11/10731/gca/2024-2025-Serie-A-Stats ...\n"
     ]
    },
    {
     "name": "stderr",
     "output_type": "stream",
     "text": [
      "/var/folders/x7/ss81vs2d7wj1wj700h3170dh0000gn/T/ipykernel_74667/2640609032.py:45: FutureWarning: Passing literal html to 'read_html' is deprecated and will be removed in a future version. To read from a literal string, wrap it in a 'StringIO' object.\n",
      "  df = pd.read_html(table_html)[0]\n"
     ]
    },
    {
     "name": "stdout",
     "output_type": "stream",
     "text": [
      "✅ Saved gca.csv\n",
      "✅ Done scraping all tables.\n"
     ]
    }
   ],
   "source": [
    "import os\n",
    "import time\n",
    "import pandas as pd\n",
    "from selenium import webdriver\n",
    "from selenium.webdriver.chrome.options import Options\n",
    "from selenium.webdriver.common.by import By\n",
    "\n",
    "# List of stat categories and table IDs\n",
    "stat_categories = {\n",
    "    \"standard\": \"stats_standard\",\n",
    "    \"shooting\": \"stats_shooting\",\n",
    "    \"passing\": \"stats_passing\",\n",
    "    \"passing_types\": \"stats_passing_types\",\n",
    "    \"possession\": \"stats_possession\",\n",
    "    \"defense\": \"stats_defense\",\n",
    "    \"playing_time\": \"stats_playing_time\",\n",
    "    \"misc\": \"stats_misc\",\n",
    "    \"gca\": \"stats_gca\"\n",
    "}\n",
    "\n",
    "# Output folder\n",
    "output_dir = \"seriea_2024_2025_stats\"\n",
    "os.makedirs(output_dir, exist_ok=True)\n",
    "\n",
    "# Base URL\n",
    "base_url = \"https://fbref.com/en/comps/11/10731/{category}/2024-2025-Serie-A-Stats\"\n",
    "\n",
    "# Configure Selenium headless Chrome\n",
    "options = Options()\n",
    "options.add_argument(\"--headless\")\n",
    "options.add_argument(\"--disable-gpu\")\n",
    "options.add_argument(\"--window-size=1920,1080\")\n",
    "driver = webdriver.Chrome(options=options)\n",
    "\n",
    "# Scrape each table\n",
    "for category, table_id in stat_categories.items():\n",
    "    url = base_url.format(category=category)\n",
    "    print(f\"Scraping {category} from {url} ...\")\n",
    "\n",
    "    try:\n",
    "        driver.get(url)\n",
    "        time.sleep(5)\n",
    "        element = driver.find_element(By.ID, f\"div_{table_id}\")\n",
    "        table_html = element.get_attribute(\"innerHTML\")\n",
    "        df = pd.read_html(table_html)[0]\n",
    "\n",
    "        # Remove duplicate header rows\n",
    "        df = df[df[df.columns[0]] != df.columns[0]]\n",
    "\n",
    "        # Save to CSV\n",
    "        df.to_csv(os.path.join(output_dir, f\"{category}.csv\"), index=False)\n",
    "        print(f\"✅ Saved {category}.csv\")\n",
    "    except Exception as e:\n",
    "        print(f\"❌ Failed to scrape {category}: {e}\")\n",
    "\n",
    "driver.quit()\n",
    "print(\"✅ Done scraping all tables.\")\n"
   ]
  },
  {
   "cell_type": "code",
   "execution_count": null,
   "id": "b24f52ec-9102-4890-8439-64077e6e6c22",
   "metadata": {},
   "outputs": [],
   "source": []
  },
  {
   "cell_type": "code",
   "execution_count": null,
   "id": "a7f11c60-597f-4ef0-919b-3e8079d904f0",
   "metadata": {},
   "outputs": [],
   "source": []
  }
 ],
 "metadata": {
  "kernelspec": {
   "display_name": "Python 3 (ipykernel)",
   "language": "python",
   "name": "python3"
  },
  "language_info": {
   "codemirror_mode": {
    "name": "ipython",
    "version": 3
   },
   "file_extension": ".py",
   "mimetype": "text/x-python",
   "name": "python",
   "nbconvert_exporter": "python",
   "pygments_lexer": "ipython3",
   "version": "3.11.13"
  }
 },
 "nbformat": 4,
 "nbformat_minor": 5
}

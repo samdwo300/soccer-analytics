{
 "cells": [
  {
   "cell_type": "code",
   "execution_count": null,
   "id": "128baa1b",
   "metadata": {},
   "outputs": [],
   "source": [
    "# Python ≥3.5 (ideally)\n",
    "import platform\n",
    "import sys, getopt\n",
    "assert sys.version_info >= (3, 5)\n",
    "import csv\n",
    "\n",
    "# Import Dependencies\n",
    "%matplotlib inline\n",
    "\n",
    "# Math Operations\n",
    "import numpy as np\n",
    "from math import pi\n",
    "\n",
    "# Datetime\n",
    "import datetime\n",
    "from datetime import date\n",
    "import time\n",
    "\n",
    "# Data Preprocessing\n",
    "import pandas as pd\n",
    "import os\n",
    "import re\n",
    "import random\n",
    "import glob\n",
    "from io import BytesIO\n",
    "from pathlib import Path\n",
    "\n",
    "# Reading directories\n",
    "import glob\n",
    "import os\n",
    "\n",
    "# Working with JSON\n",
    "import json\n",
    "from selenium.webdriver.chrome.service import Service\n",
    "\n",
    "# Web Scraping\n",
    "from selenium import webdriver\n",
    "from bs4 import BeautifulSoup\n",
    "import requests\n",
    "from bs4 import BeautifulSoup\n",
    "import re\n",
    "\n",
    "# Data Visualisation\n",
    "import matplotlib as mpl\n",
    "import matplotlib.pyplot as plt\n",
    "import seaborn as sns\n",
    "\n",
    "\n",
    "# Progress Bar\n",
    "\n",
    "\n",
    "# Display in Jupyter\n",
    "from IPython.display import Image, YouTubeVideo\n",
    "from IPython.core.display import HTML\n",
    "\n",
    "# Ignore Warnings\n",
    "import warnings\n",
    "warnings.filterwarnings(action=\"ignore\", message=\"^internal gelsd\")\n",
    "\n",
    "print('Setup Complete')"
   ]
  },
  {
   "cell_type": "code",
   "execution_count": null,
   "id": "01b97bd4",
   "metadata": {},
   "outputs": [],
   "source": [
    "import os\n",
    "import time\n",
    "import pandas as pd\n",
    "from selenium import webdriver\n",
    "from selenium.webdriver.chrome.options import Options\n",
    "from selenium.webdriver.common.by import By\n",
    "\n",
    "# List of stat categories and table IDs\n",
    "stat_categories = {\n",
    "    \"standard\": \"stats_standard\",\n",
    "    \"shooting\": \"stats_shooting\",\n",
    "    \"passing\": \"stats_passing\",\n",
    "    \"passing_types\": \"stats_passing_types\",\n",
    "    \"possession\": \"stats_possession\",\n",
    "    \"defense\": \"stats_defense\",\n",
    "    \"playing_time\": \"stats_playing_time\",\n",
    "    \"misc\": \"stats_misc\",\n",
    "    \"gca\": \"stats_gca\"\n",
    "}\n",
    "\n",
    "# Output folder\n",
    "output_dir = \"seriea_2024_2025_stats\"\n",
    "os.makedirs(output_dir, exist_ok=True)\n",
    "\n",
    "# Base URL\n",
    "base_url = \"https://fbref.com/en/comps/11/10731/{category}/2024-2025-Serie-A-Stats\"\n",
    "\n",
    "# Configure Selenium headless Chrome\n",
    "options = Options()\n",
    "options.add_argument(\"--headless\")\n",
    "options.add_argument(\"--disable-gpu\")\n",
    "options.add_argument(\"--window-size=1920,1080\")\n",
    "driver = webdriver.Chrome(options=options)\n",
    "\n",
    "# Scrape each table\n",
    "for category, table_id in stat_categories.items():\n",
    "    url = base_url.format(category=category)\n",
    "    print(f\"Scraping {category} from {url} ...\")\n",
    "\n",
    "    try:\n",
    "        driver.get(url)\n",
    "        time.sleep(5)\n",
    "        element = driver.find_element(By.ID, f\"div_{table_id}\")\n",
    "        table_html = element.get_attribute(\"innerHTML\")\n",
    "        df = pd.read_html(table_html)[0]\n",
    "\n",
    "        # Remove duplicate header rows\n",
    "        df = df[df[df.columns[0]] != df.columns[0]]\n",
    "\n",
    "        # Save to CSV\n",
    "        df.to_csv(os.path.join(output_dir, f\"{category}.csv\"), index=False)\n",
    "        print(f\"✅ Saved {category}.csv\")\n",
    "    except Exception as e:\n",
    "        print(f\"❌ Failed to scrape {category}: {e}\")\n",
    "\n",
    "driver.quit()\n",
    "print(\"✅ Done scraping all tables.\")\n"
   ]
  },
  {
   "cell_type": "code",
   "execution_count": 3,
   "id": "fa8a5cc9-9024-4c43-bef1-0cf2f3fa35ba",
   "metadata": {},
   "outputs": [
    {
     "name": "stdout",
     "output_type": "stream",
     "text": [
      "\n",
      "📥 Scraping serie-a for the 2024-2025 season...\n",
      "\n",
      "🌐 Scraping ac-milan (2024-2025)...\n"
     ]
    },
    {
     "name": "stderr",
     "output_type": "stream",
     "text": [
      "/var/folders/x7/ss81vs2d7wj1wj700h3170dh0000gn/T/ipykernel_94852/94433017.py:69: FutureWarning: Passing literal html to 'read_html' is deprecated and will be removed in a future version. To read from a literal string, wrap it in a 'StringIO' object.\n",
      "  raw_df = pd.read_html(html, header=0)[1]\n"
     ]
    },
    {
     "name": "stdout",
     "output_type": "stream",
     "text": [
      "✅ Saved: /Users/samueldworetzky/projects/Github/soccer-analytics/seriea_2024_2025_stats/ac-milan_serie-a_2024-2025.csv\n",
      "🌐 Scraping atalanta (2024-2025)...\n"
     ]
    },
    {
     "name": "stderr",
     "output_type": "stream",
     "text": [
      "/var/folders/x7/ss81vs2d7wj1wj700h3170dh0000gn/T/ipykernel_94852/94433017.py:69: FutureWarning: Passing literal html to 'read_html' is deprecated and will be removed in a future version. To read from a literal string, wrap it in a 'StringIO' object.\n",
      "  raw_df = pd.read_html(html, header=0)[1]\n"
     ]
    },
    {
     "name": "stdout",
     "output_type": "stream",
     "text": [
      "✅ Saved: /Users/samueldworetzky/projects/Github/soccer-analytics/seriea_2024_2025_stats/atalanta_serie-a_2024-2025.csv\n",
      "🌐 Scraping bologna (2024-2025)...\n"
     ]
    },
    {
     "name": "stderr",
     "output_type": "stream",
     "text": [
      "/var/folders/x7/ss81vs2d7wj1wj700h3170dh0000gn/T/ipykernel_94852/94433017.py:69: FutureWarning: Passing literal html to 'read_html' is deprecated and will be removed in a future version. To read from a literal string, wrap it in a 'StringIO' object.\n",
      "  raw_df = pd.read_html(html, header=0)[1]\n"
     ]
    },
    {
     "name": "stdout",
     "output_type": "stream",
     "text": [
      "✅ Saved: /Users/samueldworetzky/projects/Github/soccer-analytics/seriea_2024_2025_stats/bologna_serie-a_2024-2025.csv\n",
      "🌐 Scraping cagliari (2024-2025)...\n"
     ]
    },
    {
     "name": "stderr",
     "output_type": "stream",
     "text": [
      "/var/folders/x7/ss81vs2d7wj1wj700h3170dh0000gn/T/ipykernel_94852/94433017.py:69: FutureWarning: Passing literal html to 'read_html' is deprecated and will be removed in a future version. To read from a literal string, wrap it in a 'StringIO' object.\n",
      "  raw_df = pd.read_html(html, header=0)[1]\n"
     ]
    },
    {
     "name": "stdout",
     "output_type": "stream",
     "text": [
      "✅ Saved: /Users/samueldworetzky/projects/Github/soccer-analytics/seriea_2024_2025_stats/cagliari_serie-a_2024-2025.csv\n",
      "🌐 Scraping como (2024-2025)...\n"
     ]
    },
    {
     "name": "stderr",
     "output_type": "stream",
     "text": [
      "/var/folders/x7/ss81vs2d7wj1wj700h3170dh0000gn/T/ipykernel_94852/94433017.py:69: FutureWarning: Passing literal html to 'read_html' is deprecated and will be removed in a future version. To read from a literal string, wrap it in a 'StringIO' object.\n",
      "  raw_df = pd.read_html(html, header=0)[1]\n"
     ]
    },
    {
     "name": "stdout",
     "output_type": "stream",
     "text": [
      "✅ Saved: /Users/samueldworetzky/projects/Github/soccer-analytics/seriea_2024_2025_stats/como_serie-a_2024-2025.csv\n",
      "🌐 Scraping empoli (2024-2025)...\n"
     ]
    },
    {
     "name": "stderr",
     "output_type": "stream",
     "text": [
      "/var/folders/x7/ss81vs2d7wj1wj700h3170dh0000gn/T/ipykernel_94852/94433017.py:69: FutureWarning: Passing literal html to 'read_html' is deprecated and will be removed in a future version. To read from a literal string, wrap it in a 'StringIO' object.\n",
      "  raw_df = pd.read_html(html, header=0)[1]\n"
     ]
    },
    {
     "name": "stdout",
     "output_type": "stream",
     "text": [
      "✅ Saved: /Users/samueldworetzky/projects/Github/soccer-analytics/seriea_2024_2025_stats/empoli_serie-a_2024-2025.csv\n",
      "🌐 Scraping fiorentina (2024-2025)...\n"
     ]
    },
    {
     "name": "stderr",
     "output_type": "stream",
     "text": [
      "/var/folders/x7/ss81vs2d7wj1wj700h3170dh0000gn/T/ipykernel_94852/94433017.py:69: FutureWarning: Passing literal html to 'read_html' is deprecated and will be removed in a future version. To read from a literal string, wrap it in a 'StringIO' object.\n",
      "  raw_df = pd.read_html(html, header=0)[1]\n"
     ]
    },
    {
     "name": "stdout",
     "output_type": "stream",
     "text": [
      "✅ Saved: /Users/samueldworetzky/projects/Github/soccer-analytics/seriea_2024_2025_stats/fiorentina_serie-a_2024-2025.csv\n",
      "🌐 Scraping genoa (2024-2025)...\n"
     ]
    },
    {
     "name": "stderr",
     "output_type": "stream",
     "text": [
      "/var/folders/x7/ss81vs2d7wj1wj700h3170dh0000gn/T/ipykernel_94852/94433017.py:69: FutureWarning: Passing literal html to 'read_html' is deprecated and will be removed in a future version. To read from a literal string, wrap it in a 'StringIO' object.\n",
      "  raw_df = pd.read_html(html, header=0)[1]\n"
     ]
    },
    {
     "name": "stdout",
     "output_type": "stream",
     "text": [
      "✅ Saved: /Users/samueldworetzky/projects/Github/soccer-analytics/seriea_2024_2025_stats/genoa_serie-a_2024-2025.csv\n",
      "🌐 Scraping hellas-verona (2024-2025)...\n"
     ]
    },
    {
     "name": "stderr",
     "output_type": "stream",
     "text": [
      "/var/folders/x7/ss81vs2d7wj1wj700h3170dh0000gn/T/ipykernel_94852/94433017.py:69: FutureWarning: Passing literal html to 'read_html' is deprecated and will be removed in a future version. To read from a literal string, wrap it in a 'StringIO' object.\n",
      "  raw_df = pd.read_html(html, header=0)[1]\n"
     ]
    },
    {
     "name": "stdout",
     "output_type": "stream",
     "text": [
      "✅ Saved: /Users/samueldworetzky/projects/Github/soccer-analytics/seriea_2024_2025_stats/hellas-verona_serie-a_2024-2025.csv\n",
      "🌐 Scraping inter-milan (2024-2025)...\n"
     ]
    },
    {
     "name": "stderr",
     "output_type": "stream",
     "text": [
      "/var/folders/x7/ss81vs2d7wj1wj700h3170dh0000gn/T/ipykernel_94852/94433017.py:69: FutureWarning: Passing literal html to 'read_html' is deprecated and will be removed in a future version. To read from a literal string, wrap it in a 'StringIO' object.\n",
      "  raw_df = pd.read_html(html, header=0)[1]\n"
     ]
    },
    {
     "name": "stdout",
     "output_type": "stream",
     "text": [
      "✅ Saved: /Users/samueldworetzky/projects/Github/soccer-analytics/seriea_2024_2025_stats/inter-milan_serie-a_2024-2025.csv\n",
      "🌐 Scraping juventus (2024-2025)...\n"
     ]
    },
    {
     "name": "stderr",
     "output_type": "stream",
     "text": [
      "/var/folders/x7/ss81vs2d7wj1wj700h3170dh0000gn/T/ipykernel_94852/94433017.py:69: FutureWarning: Passing literal html to 'read_html' is deprecated and will be removed in a future version. To read from a literal string, wrap it in a 'StringIO' object.\n",
      "  raw_df = pd.read_html(html, header=0)[1]\n"
     ]
    },
    {
     "name": "stdout",
     "output_type": "stream",
     "text": [
      "✅ Saved: /Users/samueldworetzky/projects/Github/soccer-analytics/seriea_2024_2025_stats/juventus_serie-a_2024-2025.csv\n",
      "🌐 Scraping lazio (2024-2025)...\n"
     ]
    },
    {
     "name": "stderr",
     "output_type": "stream",
     "text": [
      "/var/folders/x7/ss81vs2d7wj1wj700h3170dh0000gn/T/ipykernel_94852/94433017.py:69: FutureWarning: Passing literal html to 'read_html' is deprecated and will be removed in a future version. To read from a literal string, wrap it in a 'StringIO' object.\n",
      "  raw_df = pd.read_html(html, header=0)[1]\n"
     ]
    },
    {
     "name": "stdout",
     "output_type": "stream",
     "text": [
      "✅ Saved: /Users/samueldworetzky/projects/Github/soccer-analytics/seriea_2024_2025_stats/lazio_serie-a_2024-2025.csv\n",
      "🌐 Scraping lecce (2024-2025)...\n"
     ]
    },
    {
     "name": "stderr",
     "output_type": "stream",
     "text": [
      "/var/folders/x7/ss81vs2d7wj1wj700h3170dh0000gn/T/ipykernel_94852/94433017.py:69: FutureWarning: Passing literal html to 'read_html' is deprecated and will be removed in a future version. To read from a literal string, wrap it in a 'StringIO' object.\n",
      "  raw_df = pd.read_html(html, header=0)[1]\n"
     ]
    },
    {
     "name": "stdout",
     "output_type": "stream",
     "text": [
      "✅ Saved: /Users/samueldworetzky/projects/Github/soccer-analytics/seriea_2024_2025_stats/lecce_serie-a_2024-2025.csv\n",
      "🌐 Scraping monza (2024-2025)...\n"
     ]
    },
    {
     "name": "stderr",
     "output_type": "stream",
     "text": [
      "/var/folders/x7/ss81vs2d7wj1wj700h3170dh0000gn/T/ipykernel_94852/94433017.py:69: FutureWarning: Passing literal html to 'read_html' is deprecated and will be removed in a future version. To read from a literal string, wrap it in a 'StringIO' object.\n",
      "  raw_df = pd.read_html(html, header=0)[1]\n"
     ]
    },
    {
     "name": "stdout",
     "output_type": "stream",
     "text": [
      "✅ Saved: /Users/samueldworetzky/projects/Github/soccer-analytics/seriea_2024_2025_stats/monza_serie-a_2024-2025.csv\n",
      "🌐 Scraping napoli (2024-2025)...\n"
     ]
    },
    {
     "name": "stderr",
     "output_type": "stream",
     "text": [
      "/var/folders/x7/ss81vs2d7wj1wj700h3170dh0000gn/T/ipykernel_94852/94433017.py:69: FutureWarning: Passing literal html to 'read_html' is deprecated and will be removed in a future version. To read from a literal string, wrap it in a 'StringIO' object.\n",
      "  raw_df = pd.read_html(html, header=0)[1]\n"
     ]
    },
    {
     "name": "stdout",
     "output_type": "stream",
     "text": [
      "✅ Saved: /Users/samueldworetzky/projects/Github/soccer-analytics/seriea_2024_2025_stats/napoli_serie-a_2024-2025.csv\n",
      "🌐 Scraping parma (2024-2025)...\n"
     ]
    },
    {
     "name": "stderr",
     "output_type": "stream",
     "text": [
      "/var/folders/x7/ss81vs2d7wj1wj700h3170dh0000gn/T/ipykernel_94852/94433017.py:69: FutureWarning: Passing literal html to 'read_html' is deprecated and will be removed in a future version. To read from a literal string, wrap it in a 'StringIO' object.\n",
      "  raw_df = pd.read_html(html, header=0)[1]\n"
     ]
    },
    {
     "name": "stdout",
     "output_type": "stream",
     "text": [
      "✅ Saved: /Users/samueldworetzky/projects/Github/soccer-analytics/seriea_2024_2025_stats/parma_serie-a_2024-2025.csv\n",
      "🌐 Scraping roma (2024-2025)...\n"
     ]
    },
    {
     "name": "stderr",
     "output_type": "stream",
     "text": [
      "/var/folders/x7/ss81vs2d7wj1wj700h3170dh0000gn/T/ipykernel_94852/94433017.py:69: FutureWarning: Passing literal html to 'read_html' is deprecated and will be removed in a future version. To read from a literal string, wrap it in a 'StringIO' object.\n",
      "  raw_df = pd.read_html(html, header=0)[1]\n"
     ]
    },
    {
     "name": "stdout",
     "output_type": "stream",
     "text": [
      "✅ Saved: /Users/samueldworetzky/projects/Github/soccer-analytics/seriea_2024_2025_stats/roma_serie-a_2024-2025.csv\n",
      "🌐 Scraping torino (2024-2025)...\n"
     ]
    },
    {
     "name": "stderr",
     "output_type": "stream",
     "text": [
      "/var/folders/x7/ss81vs2d7wj1wj700h3170dh0000gn/T/ipykernel_94852/94433017.py:69: FutureWarning: Passing literal html to 'read_html' is deprecated and will be removed in a future version. To read from a literal string, wrap it in a 'StringIO' object.\n",
      "  raw_df = pd.read_html(html, header=0)[1]\n"
     ]
    },
    {
     "name": "stdout",
     "output_type": "stream",
     "text": [
      "✅ Saved: /Users/samueldworetzky/projects/Github/soccer-analytics/seriea_2024_2025_stats/torino_serie-a_2024-2025.csv\n",
      "🌐 Scraping udinese (2024-2025)...\n"
     ]
    },
    {
     "name": "stderr",
     "output_type": "stream",
     "text": [
      "/var/folders/x7/ss81vs2d7wj1wj700h3170dh0000gn/T/ipykernel_94852/94433017.py:69: FutureWarning: Passing literal html to 'read_html' is deprecated and will be removed in a future version. To read from a literal string, wrap it in a 'StringIO' object.\n",
      "  raw_df = pd.read_html(html, header=0)[1]\n"
     ]
    },
    {
     "name": "stdout",
     "output_type": "stream",
     "text": [
      "✅ Saved: /Users/samueldworetzky/projects/Github/soccer-analytics/seriea_2024_2025_stats/udinese_serie-a_2024-2025.csv\n",
      "🌐 Scraping venezia (2024-2025)...\n",
      "✅ Saved: /Users/samueldworetzky/projects/Github/soccer-analytics/seriea_2024_2025_stats/venezia_serie-a_2024-2025.csv\n",
      "\n",
      "✅ All data saved: /Users/samueldworetzky/projects/Github/soccer-analytics/seriea_2024_2025_stats/all_serie-a_2024-2025.csv — 740 total rows\n",
      "\n"
     ]
    },
    {
     "name": "stderr",
     "output_type": "stream",
     "text": [
      "/var/folders/x7/ss81vs2d7wj1wj700h3170dh0000gn/T/ipykernel_94852/94433017.py:69: FutureWarning: Passing literal html to 'read_html' is deprecated and will be removed in a future version. To read from a literal string, wrap it in a 'StringIO' object.\n",
      "  raw_df = pd.read_html(html, header=0)[1]\n"
     ]
    }
   ],
   "source": [
    "# Python ≥3.5 Check\n",
    "import sys\n",
    "assert sys.version_info >= (3, 5)\n",
    "\n",
    "# --- Core Imports ---\n",
    "import os\n",
    "import re\n",
    "import time\n",
    "import warnings\n",
    "import numpy as np\n",
    "import pandas as pd\n",
    "import matplotlib.pyplot as plt\n",
    "import seaborn as sns\n",
    "\n",
    "# Display Settings\n",
    "sns.set_theme(style=\"whitegrid\")\n",
    "warnings.filterwarnings(action=\"ignore\", message=\"^internal gelsd\")\n",
    "\n",
    "# --- Web Scraping ---\n",
    "from selenium import webdriver\n",
    "from selenium.webdriver.chrome.service import Service\n",
    "from webdriver_manager.chrome import ChromeDriverManager\n",
    "from bs4 import BeautifulSoup\n",
    "\n",
    "# --- Progress Bar ---\n",
    "from tqdm import tqdm\n",
    "\n",
    "# --- Define working directory explicitly ---\n",
    "wd = '/Users/samueldworetzky/projects/Github/soccer-analytics'\n",
    "out_dir = os.path.join(wd, 'seriea_2024_2025_stats')\n",
    "os.makedirs(out_dir, exist_ok=True)\n",
    "\n",
    "# --- WebDriver Options ---\n",
    "options = webdriver.ChromeOptions()\n",
    "options.add_argument('--headless')\n",
    "options.add_argument('--no-sandbox')\n",
    "options.add_argument('--disable-dev-shm-usage')\n",
    "\n",
    "# --- Team & Season Setup ---\n",
    "lst_teams_sa_2425 = [\n",
    "    'ac-milan', 'atalanta', 'bologna', 'cagliari', 'como',\n",
    "    'empoli', 'fiorentina', 'genoa', 'hellas-verona', 'inter-milan',\n",
    "    'juventus', 'lazio', 'lecce', 'monza', 'napoli',\n",
    "    'parma', 'roma', 'torino', 'udinese', 'venezia'\n",
    "]\n",
    "season = '2024-2025'\n",
    "competition = 'serie-a'\n",
    "\n",
    "# --- Scraping Function ---\n",
    "def scrape_capology_season_prev(lst_teams, season, comp):\n",
    "    print(f'\\n📥 Scraping {comp} for the {season} season...\\n')\n",
    "    dfs_players = []\n",
    "\n",
    "    for team in lst_teams:\n",
    "        file_path = os.path.join(out_dir, f'{team}_{comp}_{season}.csv')\n",
    "\n",
    "        if not os.path.exists(file_path):\n",
    "            url = f'https://www.capology.com/club/{team}/salaries/{season}/'\n",
    "            print(f'🌐 Scraping {team} ({season})...')\n",
    "\n",
    "            service = Service(ChromeDriverManager().install())\n",
    "            wd_driver = webdriver.Chrome(service=service, options=options)\n",
    "            wd_driver.get(url)\n",
    "            time.sleep(5)\n",
    "            html = wd_driver.page_source\n",
    "            wd_driver.quit()\n",
    "\n",
    "            try:\n",
    "                raw_df = pd.read_html(html, header=0)[1]\n",
    "                raw_df.dropna(how='all', inplace=True)\n",
    "                raw_df.columns = raw_df.columns.str.strip()\n",
    "                df = raw_df.reset_index(drop=True)\n",
    "                df.drop(columns=['Rank'], inplace=True, errors='ignore')\n",
    "            except Exception as e:\n",
    "                print(f'⚠️ Failed to parse {team}: {e}')\n",
    "                continue\n",
    "\n",
    "            df['Team'] = team.replace('-', ' ').title().replace('Fc', 'FC').replace('Ac', 'AC')\n",
    "            df['League'] = comp.replace('-', ' ').title()\n",
    "            df['Season'] = season\n",
    "\n",
    "            df.to_csv(file_path, index=False)\n",
    "            dfs_players.append(df)\n",
    "            print(f'✅ Saved: {file_path}')\n",
    "        else:\n",
    "            print(f'📂 Already exists: {file_path}')\n",
    "            df = pd.read_csv(file_path)\n",
    "            dfs_players.append(df)\n",
    "\n",
    "    if dfs_players:\n",
    "        df_all = pd.concat(dfs_players, ignore_index=True)\n",
    "        all_path = os.path.join(out_dir, f'all_{comp}_{season}.csv')\n",
    "        df_all.to_csv(all_path, index=False)\n",
    "        print(f'\\n✅ All data saved: {all_path} — {len(df_all)} total rows\\n')\n",
    "        return df_all\n",
    "    else:\n",
    "        print('⚠️ No data was collected.')\n",
    "        return pd.DataFrame()\n",
    "\n",
    "# --- Run Scraper ---\n",
    "df_players_all = scrape_capology_season_prev(lst_teams_sa_2425, season, competition)\n"
   ]
  },
  {
   "cell_type": "code",
   "execution_count": null,
   "id": "4dafc07f-b783-4be1-a5b8-bed84a0f408f",
   "metadata": {},
   "outputs": [],
   "source": []
  }
 ],
 "metadata": {
  "kernelspec": {
   "display_name": "Python 3 (ipykernel)",
   "language": "python",
   "name": "python3"
  },
  "language_info": {
   "codemirror_mode": {
    "name": "ipython",
    "version": 3
   },
   "file_extension": ".py",
   "mimetype": "text/x-python",
   "name": "python",
   "nbconvert_exporter": "python",
   "pygments_lexer": "ipython3",
   "version": "3.11.13"
  }
 },
 "nbformat": 4,
 "nbformat_minor": 5
}
